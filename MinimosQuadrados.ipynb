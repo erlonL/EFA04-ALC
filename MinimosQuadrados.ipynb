{
 "cells": [
  {
   "cell_type": "code",
   "execution_count": 7,
   "metadata": {},
   "outputs": [],
   "source": [
    "using LinearAlgebra"
   ]
  },
  {
   "cell_type": "code",
   "execution_count": 8,
   "metadata": {},
   "outputs": [
    {
     "data": {
      "text/plain": [
       "Cholesky (generic function with 1 method)"
      ]
     },
     "metadata": {},
     "output_type": "display_data"
    }
   ],
   "source": [
    "include(\"Cholesky.jl\")"
   ]
  },
  {
   "cell_type": "markdown",
   "metadata": {},
   "source": [
    "# Aplicando Mínimos quadrados manualmente"
   ]
  },
  {
   "cell_type": "code",
   "execution_count": 9,
   "metadata": {},
   "outputs": [],
   "source": [
    "A = [4 5 ; 3 5 ; 0 -1/2];\n",
    "b = [1 ; -3 ; -2];"
   ]
  },
  {
   "cell_type": "code",
   "execution_count": 10,
   "metadata": {},
   "outputs": [],
   "source": [
    "Atil = A'*A;\n",
    "btil = A'*b;"
   ]
  },
  {
   "cell_type": "code",
   "execution_count": 12,
   "metadata": {},
   "outputs": [
    {
     "data": {
      "text/plain": [
       "2-element Vector{Float64}:\n",
       " -1.0\n",
       " -1.7888543819998317"
      ]
     },
     "metadata": {},
     "output_type": "display_data"
    }
   ],
   "source": [
    "G = Cholesky(Atil);\n",
    "\n",
    "y = G\\btil"
   ]
  },
  {
   "cell_type": "code",
   "execution_count": 17,
   "metadata": {},
   "outputs": [
    {
     "name": "stdout",
     "output_type": "stream",
     "text": [
      "x = [2.04, -1.5999999999999999]\n",
      "\n",
      "é o vetor de R² que minimiza o (PMQ)\n",
      "com valor mínimo de 9.8\n"
     ]
    }
   ],
   "source": [
    "x = G'\\y;\n",
    "\n",
    "println(\"x = \", x)\n",
    "println(\"\\né o vetor de R² que minimiza o (PMQ)\\ncom valor mínimo de \", norm(A*x - b)^2)"
   ]
  },
  {
   "cell_type": "markdown",
   "metadata": {},
   "source": [
    "# Algoritmo PMQ via Equações Normais"
   ]
  },
  {
   "cell_type": "code",
   "execution_count": 21,
   "metadata": {},
   "outputs": [
    {
     "data": {
      "text/plain": [
       "MinQuad (generic function with 2 methods)"
      ]
     },
     "metadata": {},
     "output_type": "display_data"
    }
   ],
   "source": [
    "function MinQuad(A, b)\n",
    "    Atil = A'*A;\n",
    "    btil = A'*b;\n",
    "    G = Cholesky(Atil);\n",
    "    y = G\\btil;\n",
    "    x = G'\\y;\n",
    "    return x\n",
    "end"
   ]
  },
  {
   "cell_type": "code",
   "execution_count": 22,
   "metadata": {},
   "outputs": [
    {
     "name": "stdout",
     "output_type": "stream",
     "text": [
      "\n",
      "x = [3.9999999999999973, 5.9999999999999964, 2.3333333333333317]\n",
      "\n",
      "é o vetor de R³ que minimiza o (PMQ)\n",
      "com valor mínimo de 69.33333333333336\n"
     ]
    }
   ],
   "source": [
    "A = [1 -2 1 ; 2 -1 0 ; 1 -1 1 ; -1 0 2];\n",
    "b = [-7 ; -2 ; 7 ; -2]\n",
    "\n",
    "x = MinQuad(A, b)\n",
    "\n",
    "println(\"\\nx = \", x)\n",
    "println(\"\\né o vetor de R³ que minimiza o (PMQ)\\ncom valor mínimo de \", norm(A*x - b)^2)"
   ]
  }
 ],
 "metadata": {
  "kernelspec": {
   "display_name": "Julia 1.9.3",
   "language": "julia",
   "name": "julia-1.9"
  },
  "language_info": {
   "file_extension": ".jl",
   "mimetype": "application/julia",
   "name": "julia",
   "version": "1.9.3"
  }
 },
 "nbformat": 4,
 "nbformat_minor": 2
}
