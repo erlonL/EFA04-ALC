{
 "cells": [
  {
   "cell_type": "code",
   "execution_count": 2,
   "metadata": {},
   "outputs": [],
   "source": [
    "using LinearAlgebra"
   ]
  },
  {
   "cell_type": "markdown",
   "metadata": {},
   "source": [
    "# Questão 01"
   ]
  },
  {
   "cell_type": "markdown",
   "metadata": {},
   "source": [
    "Seja\n",
    "$$\n",
    "A = \\begin{bmatrix}\n",
    " 4 & 8 & 1\\\\\n",
    " 0 & 2 & -2\\\\\n",
    " 3 & 6 & 7\n",
    "\\end{bmatrix} \\in \\mathbb{R}^{3 \\times 3}\n",
    "$$\n",
    "Desta forma:\n",
    "\n",
    "1. Determine a Decomposição $QR$ da matriz $A$, na forma $A = QR$.\n",
    "Usando o Algoritmo de Householder."
   ]
  },
  {
   "cell_type": "code",
   "execution_count": 3,
   "metadata": {},
   "outputs": [],
   "source": [
    "# Passo 0\n",
    "A = [4 8 1 ; 0 2 -2 ; 3 6 7];\n",
    "\n",
    "n = size(A,1);"
   ]
  },
  {
   "cell_type": "code",
   "execution_count": 4,
   "metadata": {},
   "outputs": [
    {
     "name": "stdout",
     "output_type": "stream",
     "text": [
      "\n",
      "x = A1(:,1) = "
     ]
    },
    {
     "name": "stdout",
     "output_type": "stream",
     "text": [
      "[4, 0, 3]\n"
     ]
    },
    {
     "name": "stdout",
     "output_type": "stream",
     "text": [
      "\n",
      "e1 = "
     ]
    },
    {
     "name": "stdout",
     "output_type": "stream",
     "text": [
      "[1.0, 0.0, 0.0]\n",
      "\n",
      "α1 = 5.0\n",
      "\n",
      "v = x - α1*e1 = [-1.0, 0.0, 3.0]\n"
     ]
    },
    {
     "name": "stdout",
     "output_type": "stream",
     "text": [
      "\n",
      "u = v / norm(v) = [-0.31623, 0.0, 0.94868]\n"
     ]
    },
    {
     "name": "stdout",
     "output_type": "stream",
     "text": [
      "\n",
      "Q_1 = I_n - 2uu^T = "
     ]
    },
    {
     "name": "stdout",
     "output_type": "stream",
     "text": [
      "[0.8 0.0 0.6; 0.0 1.0 0.0; 0.6 0.0 -0.8]\n"
     ]
    }
   ],
   "source": [
    "# Passo 1\n",
    "A1 = A;\n",
    "\n",
    "x = A1[:,1];\n",
    "e1 = zeros(n); e1[1] = 1;\n",
    "\n",
    "α1 = norm(x); # i\n",
    "v = x - α1*e1; # ii\n",
    "u = v / norm(v); # iii\n",
    "Q1 = diagm(ones(n)) - 2*u*u' # iv Q_1 = I_n - 2uu^T\n",
    "\n",
    "print(\"\\nx = A1(:,1) = \", x, \"\\n\")\n",
    "print(\"\\ne1 = \", e1, \"\\n\")\n",
    "print(\"\\nα1 = \", α1, \"\\n\")\n",
    "print(\"\\nv = x - α1*e1 = \", v, \"\\n\")\n",
    "print(\"\\nu = v / norm(v) = \", round.((u) ; digits=5), \"\\n\")\n",
    "print(\"\\nQ_1 = I_n - 2uu^T = \", round.((Q1); digits=5), \"\\n\")"
   ]
  },
  {
   "cell_type": "code",
   "execution_count": 5,
   "metadata": {},
   "outputs": [],
   "source": [
    "# TESTES\n",
    "# round.((round(sqrt(2)) * u) ; digits=5)\n",
    "# t = sqrt(2) * [-1/2 ; 2/5 ; 3/10]\n",
    "# 2*(t * t')\n",
    "# diagm(ones(n)) - 2*u*u'"
   ]
  },
  {
   "cell_type": "code",
   "execution_count": 6,
   "metadata": {},
   "outputs": [
    {
     "data": {
      "text/plain": [
       "2×2 Matrix{Float64}:\n",
       " 2.0          -2.0\n",
       " 8.88178e-16  -5.0"
      ]
     },
     "metadata": {},
     "output_type": "display_data"
    }
   ],
   "source": [
    "# Passo 2\n",
    "A2 = Q1*A1\n",
    "A2til = A2[2:end,2:end]\n",
    "\n",
    "# A2[1,1] == α1;"
   ]
  },
  {
   "cell_type": "code",
   "execution_count": 7,
   "metadata": {},
   "outputs": [
    {
     "name": "stdout",
     "output_type": "stream",
     "text": [
      "\n",
      "x = A2til(:,1) = [2.0, 0.0]\n",
      "\n",
      "e1 = [1.0, 0.0]\n",
      "\n",
      "α2 = 2.0\n",
      "\n",
      "v = x - α2*e1 = [0.0, 0.0]\n",
      "\n",
      "u = v / norm(v) = [0.0, 1.0]\n",
      "\n",
      "Q_2til = I_n-1 - 2uu^T = [1.0 0.0; 0.0 -1.0]\n",
      "\n",
      "Q_2 = [1.0 0.0 0.0; 0.0 1.0 0.0; 0.0 0.0 -1.0]\n"
     ]
    }
   ],
   "source": [
    "# n - 1 = 2\n",
    "# k = 2\n",
    "# Repita os passos 1 e 2 para A2til\n",
    "# Passo 1\n",
    "x = A2til[:,1];\n",
    "e1 = zeros(n-1); e1[1] = 1;\n",
    "\n",
    "α2 = norm(x);\n",
    "v = x - α2*e1;\n",
    "u = v / norm(v);\n",
    "Q2til = diagm(ones(n-1)) - 2*u*u'\n",
    "Q2 = [1 zeros(1,n-1) ; zeros(n-1,1) Q2til]\n",
    "\n",
    "print(\"\\nx = A2til(:,1) = \", round.((x) ; digits = 5), \"\\n\")\n",
    "print(\"\\ne1 = \", e1, \"\\n\")\n",
    "print(\"\\nα2 = \", α2, \"\\n\")\n",
    "print(\"\\nv = x - α2*e1 = \", round.((v) ; digits = 5), \"\\n\")\n",
    "print(\"\\nu = v / norm(v) = \", round.((u) ; digits=5), \"\\n\")\n",
    "print(\"\\nQ_2til = I_n-1 - 2uu^T = \", round.((Q2til); digits=5), \"\\n\")\n",
    "print(\"\\nQ_2 = \", round.((Q2); digits=5), \"\\n\")"
   ]
  },
  {
   "cell_type": "code",
   "execution_count": 8,
   "metadata": {},
   "outputs": [],
   "source": [
    "# TESTES\n",
    "# round.((round(sqrt(2)) * u) ; digits=5)\n",
    "\n",
    "# round.(([4/5 3/5 ; 3/5 -4/5]) ; digits=5) == round.((Q2til) ; digits=5) # minhas contas tão certas"
   ]
  },
  {
   "cell_type": "code",
   "execution_count": 9,
   "metadata": {},
   "outputs": [
    {
     "data": {
      "text/plain": [
       "1×1 Matrix{Float64}:\n",
       " 4.999999999999999"
      ]
     },
     "metadata": {},
     "output_type": "display_data"
    }
   ],
   "source": [
    "# Determinando A3 e A3til\n",
    "# Passo 2\n",
    "A3 = Q2*A2\n",
    "A3til = A3[3:end,3:end]"
   ]
  },
  {
   "cell_type": "code",
   "execution_count": 10,
   "metadata": {},
   "outputs": [
    {
     "data": {
      "text/plain": [
       "3×3 Matrix{Float64}:\n",
       " 4.0  8.0   1.0\n",
       " 0.0  2.0  -2.0\n",
       " 3.0  6.0   7.0"
      ]
     },
     "metadata": {},
     "output_type": "display_data"
    }
   ],
   "source": [
    "Q = Q1*Q2\n",
    "R = A3\n",
    "\n",
    "Q * R"
   ]
  },
  {
   "cell_type": "markdown",
   "metadata": {},
   "source": [
    "# Questão 02"
   ]
  },
  {
   "cell_type": "markdown",
   "metadata": {},
   "source": [
    "Seja\n",
    "$$\n",
    "A = \\begin{bmatrix}\n",
    " 4 & 8 \\\\\n",
    " 0 & 2 \\\\\n",
    " 3 & 6 \n",
    "\\end{bmatrix} \\in \\mathbb{R}^{3 \\times 2}\n",
    "$$\n",
    "Desta forma:\n",
    "\n",
    "1. Determine a Decomposição $QR$ Reduzida da matriz $A$, na forma $A = QR$.\n",
    "Usando o Algoritmo de GS Modificado."
   ]
  },
  {
   "cell_type": "code",
   "execution_count": 11,
   "metadata": {},
   "outputs": [],
   "source": [
    "include(\"GS_MOD.jl\");"
   ]
  },
  {
   "cell_type": "code",
   "execution_count": 12,
   "metadata": {},
   "outputs": [
    {
     "name": "stdout",
     "output_type": "stream",
     "text": [
      "Algoritmo de Gram-Schmidt MODIFICADO\n",
      "Para k = 1 2 faça\n",
      "\tu1 = A[:, 1] => [4, 0, 3]\n",
      "\tu2 = A[:, 2] => [8, 2, 6]\n",
      "\tPara k = 1 faça:\n",
      "\t\tr[1, 1] = norm(u1) => 5.0\n"
     ]
    },
    {
     "name": "stdout",
     "output_type": "stream",
     "text": [
      "\t\tw1 = u1/r[1, 1] => [0.8, 0.0, 0.6]\n",
      "\t\tPara j = 2 faça:\n",
      "\t\t\tR[1, 2] = w1'*u2 => 10.0\n",
      "\t\t\tu2 = u2 - R[1, 2]*w1 => [0.0, 2.0, 0.0]\n",
      "\n",
      "\tPara k = 2 faça:\n",
      "\t\tr[2, 2] = norm(u2) => 2.0\n",
      "\t\tw2 = u2/r[2, 2] => [0.0, 1.0, 0.0]\n",
      "\n"
     ]
    },
    {
     "data": {
      "text/plain": [
       "3×2 Matrix{Float64}:\n",
       " 4.0  8.0\n",
       " 0.0  2.0\n",
       " 3.0  6.0"
      ]
     },
     "metadata": {},
     "output_type": "display_data"
    }
   ],
   "source": [
    "A = [4 8 ; 0 2 ; 3 6];\n",
    "\n",
    "Q, R = GS_MOD_LOG(A)\n",
    "\n",
    "Q * R"
   ]
  },
  {
   "cell_type": "markdown",
   "metadata": {},
   "source": [
    "# Questão 03"
   ]
  },
  {
   "cell_type": "markdown",
   "metadata": {},
   "source": [
    "Seja o sistema linear $Ax = b$, onde\n",
    "$$\n",
    "A = \\begin{bmatrix}\n",
    " 1 & 1 & 0\\\\\n",
    " -1 & 1 & 0\\\\\n",
    " 0 & 0 & -1\n",
    "\\end{bmatrix} \\in \\mathbb{R}^{3 \\times 3}\n",
    "$$\n",
    "e\n",
    "$$\n",
    "b = \\begin{bmatrix}\n",
    " 1\\\\\n",
    " 1\\\\\n",
    " 1\n",
    "\\end{bmatrix} \\in \\mathbb{R}^{3 \\times 1}\n",
    "$$\n",
    "Desta forma:\n",
    "\n",
    "1. Calcule a fatoração $QR$ da matriz $A$, isto é $A = QR$.\n",
    "2. Resolva o sistema linear $Ax = b$, usando a fatoração $QR$ da matriz $A$."
   ]
  },
  {
   "cell_type": "code",
   "execution_count": 13,
   "metadata": {},
   "outputs": [
    {
     "name": "stdout",
     "output_type": "stream",
     "text": [
      "Algoritmo de Gram-Schmidt MODIFICADO\n",
      "Para k = 1 2 3 faça\n",
      "\tu1 = A[:, 1] => [1, -1, 0]\n",
      "\tu2 = A[:, 2] => [1, 1, 0]\n",
      "\tu3 = A[:, 3] => [0, 0, -1]\n",
      "\tPara k = 1 faça:\n",
      "\t\tr[1, 1] = norm(u1) => 1.41421\n",
      "\t\tw1 = u1/r[1, 1] => [0.70711, -0.70711, 0.0]\n",
      "\t\tPara j = 2 faça:\n",
      "\t\t\tR[1, 2] = w1'*u2 => 0.0\n",
      "\t\t\tu2 = u2 - R[1, 2]*w1 => [1.0, 1.0, 0.0]\n",
      "\t\tPara j = 3 faça:\n",
      "\t\t\tR[1, 3] = w1'*u3 => 0.0\n",
      "\t\t\tu3 = u3 - R[1, 3]*w1 => [0.0, 0.0, -1.0]\n",
      "\n",
      "\tPara k = 2 faça:\n",
      "\t\tr[2, 2] = norm(u2) => 1.41421\n",
      "\t\tw2 = u2/r[2, 2] => [0.70711, 0.70711, 0.0]\n",
      "\t\tPara j = 3 faça:\n",
      "\t\t\tR[2, 3] = w2'*u3 => 0.0\n",
      "\t\t\tu3 = u3 - R[2, 3]*w2 => [0.0, 0.0, -1.0]\n",
      "\n",
      "\tPara k = 3 faça:\n",
      "\t\tr[3, 3] = norm(u3) => 1.0\n",
      "\t\tw3 = u3/r[3, 3] => [0.0, 0.0, -1.0]\n",
      "\n"
     ]
    },
    {
     "data": {
      "text/plain": [
       "3×3 Matrix{Float64}:\n",
       " 1.41421  0.0      0.0\n",
       " 0.0      1.41421  0.0\n",
       " 0.0      0.0      1.0"
      ]
     },
     "metadata": {},
     "output_type": "display_data"
    }
   ],
   "source": [
    "A = [1 1 0 ; -1 1 0; 0 0 -1];\n",
    "b = [1 ; 1 ; 1];\n",
    "\n",
    "Q, R = GS_MOD_LOG(A)\n",
    "\n",
    "R"
   ]
  },
  {
   "cell_type": "code",
   "execution_count": 14,
   "metadata": {},
   "outputs": [
    {
     "data": {
      "text/plain": [
       "3-element Vector{Float64}:\n",
       "  0.0\n",
       "  1.0\n",
       " -1.0"
      ]
     },
     "metadata": {},
     "output_type": "display_data"
    }
   ],
   "source": [
    "y = Q'*b;\n",
    "x = R\\y # solução do sistema\n",
    "x = round.(x, digits=3)\n",
    "# round((y[1]) ; digits= 5) == round((sqrt(2)) ; digits = 5)"
   ]
  },
  {
   "cell_type": "markdown",
   "metadata": {},
   "source": [
    "# Questão 04"
   ]
  },
  {
   "cell_type": "markdown",
   "metadata": {},
   "source": [
    "Seja o sistema linear $Ax = b$, onde\n",
    "$$\n",
    "A = \\begin{bmatrix}\n",
    " 2 & 0\\\\\n",
    " -1 & 0\\\\\n",
    " 0 & -1\n",
    "\\end{bmatrix} \\in \\mathbb{R}^{3 \\times 2}\n",
    "$$\n",
    "e\n",
    "$$\n",
    "b = \\begin{bmatrix}\n",
    " 1\\\\\n",
    " 1\\\\\n",
    " 1\n",
    "\\end{bmatrix} \\in \\mathbb{R}^{3 \\times 1}\n",
    "$$\n",
    "Desta forma:\n",
    "\n",
    "1. Resolva o sistema linear $Ax = b$, usando o Algoritmo $PMQ$ via fatoração $QR$ da matriz $A$."
   ]
  },
  {
   "cell_type": "code",
   "execution_count": 15,
   "metadata": {},
   "outputs": [
    {
     "data": {
      "text/plain": [
       "GS_MOD_LOG (generic function with 1 method)"
      ]
     },
     "metadata": {},
     "output_type": "display_data"
    }
   ],
   "source": [
    "include(\"GS_MOD.jl\")"
   ]
  },
  {
   "cell_type": "code",
   "execution_count": 16,
   "metadata": {},
   "outputs": [
    {
     "data": {
      "text/plain": [
       "MinQuad (generic function with 1 method)"
      ]
     },
     "metadata": {},
     "output_type": "display_data"
    }
   ],
   "source": [
    "function MinQuad(A, b)\n",
    "    m, n = size(A)\n",
    "    Q, R = GS_MOD_LOG(A);\n",
    "    print(\"\\nQ = \", round.(Q; digits=5), \"\\n\")\n",
    "    print(\"\\nR = \", round.(R; digits=5), \"\\n\")\n",
    "    bch = Q'*b\n",
    "    print(\"\\nQ^T = \", round.(Q'; digits=5), \"\\n\")\n",
    "    bch = round.(bch; digits=5)\n",
    "    print(\"\\nbch = \", bch, \"\\n\")\n",
    "    x = R\\bch\n",
    "    x = round.(x; digits=2)\n",
    "    if n == rank(A)\n",
    "        # n == posto(A) / A tem posto completo\n",
    "        println(\"Sistema tem solução única\") # tem n colunas LI\n",
    "    end\n",
    "    return x\n",
    "end"
   ]
  },
  {
   "cell_type": "code",
   "execution_count": 17,
   "metadata": {},
   "outputs": [
    {
     "name": "stdout",
     "output_type": "stream",
     "text": [
      "Algoritmo de Gram-Schmidt MODIFICADO\n",
      "Para k = 1 2 faça\n",
      "\tu1 = A[:, 1] => [1, -1, 0]\n",
      "\tu2 = A[:, 2] => [0, 0, 1]\n",
      "\tPara k = 1 faça:\n",
      "\t\tr[1, 1] = norm(u1) => 1.41421\n",
      "\t\tw1 = u1/r[1, 1] => [0.70711, -0.70711, 0.0]\n",
      "\t\tPara j = 2 faça:\n",
      "\t\t\tR[1, 2] = w1'*u2 => 0.0\n",
      "\t\t\tu2 = u2 - R[1, 2]*w1 => [0.0, 0.0, 1.0]\n",
      "\n",
      "\tPara k = 2 faça:\n",
      "\t\tr[2, 2] = norm(u2) => 1.0\n",
      "\t\tw2 = u2/r[2, 2] => [0.0, 0.0, 1.0]\n",
      "\n",
      "\n",
      "Q = [0.70711 0.0; -0.70711 0.0; 0.0 1.0]\n",
      "\n",
      "R = [1.41421 0.0; 0.0 1.0]\n",
      "\n",
      "Q^T = [0.70711 -0.70711 0.0; 0.0 0.0 1.0]\n",
      "\n",
      "bch = [0.0, 1.0]\n",
      "Sistema tem solução única\n",
      "\n",
      "x = [0.0, 1.0]"
     ]
    },
    {
     "name": "stdout",
     "output_type": "stream",
     "text": [
      "\n",
      "é o vetor de R2 que minimiza o (PMQ)\n",
      "com valor mínimo de 2.0\n"
     ]
    }
   ],
   "source": [
    "A = [1 0 ; -1 0 ; 0 1];\n",
    "b = [1 ; 1 ; 1]\n",
    "\n",
    "x = MinQuad(A, b)\n",
    "n = size(x, 1)\n",
    "\n",
    "print(\"\\nx = \", x)\n",
    "println(\"\\né o vetor de R$n que minimiza o (PMQ)\\ncom valor mínimo de \", round((norm(A*x - b)^2) ; digits = 5))"
   ]
  }
 ],
 "metadata": {
  "kernelspec": {
   "display_name": "Julia 1.9.3",
   "language": "julia",
   "name": "julia-1.9"
  },
  "language_info": {
   "file_extension": ".jl",
   "mimetype": "application/julia",
   "name": "julia",
   "version": "1.9.3"
  }
 },
 "nbformat": 4,
 "nbformat_minor": 2
}
