{
 "cells": [
  {
   "cell_type": "code",
   "execution_count": 8,
   "metadata": {},
   "outputs": [],
   "source": [
    "using LinearAlgebra"
   ]
  },
  {
   "cell_type": "markdown",
   "metadata": {},
   "source": [
    "# Questão 01"
   ]
  },
  {
   "cell_type": "markdown",
   "metadata": {},
   "source": [
    "<img src=\"Q1.jpg\" width=\"300\">"
   ]
  },
  {
   "cell_type": "code",
   "execution_count": 9,
   "metadata": {},
   "outputs": [],
   "source": [
    "# Passo 0\n",
    "A = [4 8 1 ; 0 2 -2 ; 3 6 7];\n",
    "\n",
    "n = size(A,1);"
   ]
  },
  {
   "cell_type": "code",
   "execution_count": 10,
   "metadata": {},
   "outputs": [
    {
     "data": {
      "text/plain": [
       "3×3 Matrix{Float64}:\n",
       " 0.8  0.0   0.6\n",
       " 0.0  1.0   0.0\n",
       " 0.6  0.0  -0.8"
      ]
     },
     "metadata": {},
     "output_type": "display_data"
    }
   ],
   "source": [
    "# Passo 1\n",
    "A1 = A;\n",
    "\n",
    "x = A1[:,1];\n",
    "e1 = zeros(n); e1[1] = 1;\n",
    "\n",
    "α1 = norm(x);\n",
    "v = x - α1*e1;\n",
    "u = v / norm(v);\n",
    "Q1 = diagm(ones(n)) - 2*u*u'"
   ]
  },
  {
   "cell_type": "code",
   "execution_count": 11,
   "metadata": {},
   "outputs": [
    {
     "data": {
      "text/plain": [
       "2×2 Matrix{Float64}:\n",
       " 2.0          -2.0\n",
       " 8.88178e-16  -5.0"
      ]
     },
     "metadata": {},
     "output_type": "display_data"
    }
   ],
   "source": [
    "# Passo 2\n",
    "A2 = Q1*A1;\n",
    "A2til = A2[2:end,2:end]"
   ]
  },
  {
   "cell_type": "code",
   "execution_count": 12,
   "metadata": {},
   "outputs": [
    {
     "data": {
      "text/plain": [
       "3×3 Matrix{Float64}:\n",
       " 1.0  0.0   0.0\n",
       " 0.0  1.0   0.0\n",
       " 0.0  0.0  -1.0"
      ]
     },
     "metadata": {},
     "output_type": "display_data"
    }
   ],
   "source": [
    "# n - 1 = 2\n",
    "# k = 2\n",
    "# Repita os passos 1 e 2 para A2til\n",
    "# Passo 1\n",
    "x = A2til[:,1];\n",
    "e1 = zeros(n-1); e1[1] = 1;\n",
    "\n",
    "α2 = norm(x);\n",
    "v = x - α2*e1;\n",
    "u = v / norm(v);\n",
    "Q2til = diagm(ones(n-1)) - 2*u*u'\n",
    "Q2 = [1 zeros(1,n-1) ; zeros(n-1,1) Q2til]"
   ]
  },
  {
   "cell_type": "code",
   "execution_count": 13,
   "metadata": {},
   "outputs": [
    {
     "data": {
      "text/plain": [
       "1×1 Matrix{Float64}:\n",
       " 4.999999999999999"
      ]
     },
     "metadata": {},
     "output_type": "display_data"
    }
   ],
   "source": [
    "# Determinando A3 e A3til\n",
    "# Passo 2\n",
    "A3 = Q2*A2\n",
    "A3til = A3[3:end,3:end]"
   ]
  },
  {
   "cell_type": "code",
   "execution_count": 17,
   "metadata": {},
   "outputs": [
    {
     "data": {
      "text/plain": [
       "3×3 Matrix{Float64}:\n",
       " 4.0  8.0   1.0\n",
       " 0.0  2.0  -2.0\n",
       " 3.0  6.0   7.0"
      ]
     },
     "metadata": {},
     "output_type": "display_data"
    }
   ],
   "source": [
    "Q = Q1*Q2\n",
    "R = A3\n",
    "\n",
    "Q * R"
   ]
  },
  {
   "cell_type": "markdown",
   "metadata": {},
   "source": [
    "# Questão 02"
   ]
  },
  {
   "cell_type": "markdown",
   "metadata": {},
   "source": [
    "<img src=\"Q2.jpg\" width=\"300\">"
   ]
  },
  {
   "cell_type": "code",
   "execution_count": 19,
   "metadata": {},
   "outputs": [],
   "source": [
    "include(\"GS_MOD.jl\");"
   ]
  },
  {
   "cell_type": "code",
   "execution_count": 21,
   "metadata": {},
   "outputs": [
    {
     "name": "stdout",
     "output_type": "stream",
     "text": [
      "Para k = 1 2 faça\n",
      "\tu1 = A[:, 1] => "
     ]
    },
    {
     "name": "stdout",
     "output_type": "stream",
     "text": [
      "[4, 0, 3]\n",
      "\tu2 = A[:, 2] => [8, 2, 6]\n",
      "\tPara k = 1 faça:\n",
      "\t\tr[1, 1] = norm(u1) => "
     ]
    },
    {
     "name": "stdout",
     "output_type": "stream",
     "text": [
      "5.0\n"
     ]
    },
    {
     "name": "stdout",
     "output_type": "stream",
     "text": [
      "\t\tw1 = u1/r[1, 1] => "
     ]
    },
    {
     "name": "stdout",
     "output_type": "stream",
     "text": [
      "[0.8, 0.0, 0.6]\n",
      "\t\tPara j = 2 faça:\n",
      "\t\t\tR[1, 2] = w1'*u2 => 10.0\n",
      "\t\t\tu2 = u2 - R[1, 2]*w1 => [0.0, 2.0, 0.0]\n",
      "\n",
      "\tPara k = 2 faça:\n",
      "\t\tr[2, 2] = norm(u2) => 2.0\n",
      "\t\tw2 = u2/r[2, 2] => [0.0, 1.0, 0.0]\n",
      "\n"
     ]
    },
    {
     "data": {
      "text/plain": [
       "3×2 Matrix{Float64}:\n",
       " 4.0  8.0\n",
       " 0.0  2.0\n",
       " 3.0  6.0"
      ]
     },
     "metadata": {},
     "output_type": "display_data"
    }
   ],
   "source": [
    "A = [4 8 ; 0 2 ; 3 6];\n",
    "\n",
    "Q, R = GS_MOD_LOG(A)\n",
    "\n",
    "Q * R"
   ]
  },
  {
   "cell_type": "markdown",
   "metadata": {},
   "source": [
    "# Questão 03"
   ]
  },
  {
   "cell_type": "markdown",
   "metadata": {},
   "source": [
    "<img src=\"Q3.jpg\" width=\"300\">"
   ]
  },
  {
   "cell_type": "code",
   "execution_count": 22,
   "metadata": {},
   "outputs": [
    {
     "name": "stdout",
     "output_type": "stream",
     "text": [
      "Para k = 1 2 3 faça\n",
      "\tu1 = A[:, 1] => [1, -1, 0]\n",
      "\tu2 = A[:, 2] => [1, 1, 0]\n",
      "\tu3 = A[:, 3] => [0, 0, -1]\n",
      "\tPara k = 1 faça:\n",
      "\t\tr[1, 1] = norm(u1) => 1.41421\n",
      "\t\tw1 = u1/r[1, 1] => [0.70711, -0.70711, 0.0]\n",
      "\t\tPara j = 2 faça:\n",
      "\t\t\tR[1, 2] = w1'*u2 => 0.0\n",
      "\t\t\tu2 = u2 - R[1, 2]*w1 => [1.0, 1.0, 0.0]\n",
      "\t\tPara j = 3 faça:\n",
      "\t\t\tR[1, 3] = w1'*u3 => 0.0\n",
      "\t\t\tu3 = u3 - R[1, 3]*w1 => [0.0, 0.0, -1.0]\n",
      "\n",
      "\tPara k = 2 faça:\n",
      "\t\tr[2, 2] = norm(u2) => 1.41421\n",
      "\t\tw2 = u2/r[2, 2] => [0.70711, 0.70711, 0.0]\n",
      "\t\tPara j = 3 faça:\n",
      "\t\t\tR[2, 3] = w2'*u3 => 0.0\n",
      "\t\t\tu3 = u3 - R[2, 3]*w2 => [0.0, 0.0, -1.0]\n",
      "\n",
      "\tPara k = 3 faça:\n",
      "\t\tr[3, 3] = norm(u3) => 1.0\n",
      "\t\tw3 = u3/r[3, 3] => [0.0, 0.0, -1.0]\n",
      "\n"
     ]
    },
    {
     "data": {
      "text/plain": [
       "3×3 Matrix{Float64}:\n",
       "  1.0  1.0   0.0\n",
       " -1.0  1.0   0.0\n",
       "  0.0  0.0  -1.0"
      ]
     },
     "metadata": {},
     "output_type": "display_data"
    }
   ],
   "source": [
    "A = [1 1 0 ; -1 1 0 ; 0 0 -1];\n",
    "b = [1 ; 1 ; 1];\n",
    "\n",
    "Q, R = GS_MOD_LOG(A)\n",
    "\n",
    "Q * R"
   ]
  },
  {
   "cell_type": "code",
   "execution_count": 24,
   "metadata": {},
   "outputs": [
    {
     "data": {
      "text/plain": [
       "3-element Vector{Float64}:\n",
       "  0.0\n",
       "  1.0\n",
       " -1.0"
      ]
     },
     "metadata": {},
     "output_type": "display_data"
    }
   ],
   "source": [
    "y = Q'*b;\n",
    "x = R\\y # solução do sistema\n",
    "x = round.(x, digits=3)"
   ]
  },
  {
   "cell_type": "markdown",
   "metadata": {},
   "source": [
    "# Questão 04"
   ]
  },
  {
   "cell_type": "markdown",
   "metadata": {},
   "source": [
    "<img src=\"Q4.jpg\" width=\"300\">"
   ]
  },
  {
   "cell_type": "code",
   "execution_count": 30,
   "metadata": {},
   "outputs": [
    {
     "data": {
      "text/plain": [
       "MinQuad (generic function with 1 method)"
      ]
     },
     "metadata": {},
     "output_type": "display_data"
    }
   ],
   "source": [
    "function MinQuad(A, b)\n",
    "    Q, R = GS_MOD(A);\n",
    "    bch = Q'*b\n",
    "    bch = round.(bch; digits=5)\n",
    "    x = R\\bch\n",
    "    x = round.(x; digits=2)\n",
    "    return x\n",
    "end"
   ]
  },
  {
   "cell_type": "code",
   "execution_count": 31,
   "metadata": {},
   "outputs": [
    {
     "name": "stdout",
     "output_type": "stream",
     "text": [
      "\n",
      "x = [0.2, -1.0]\n",
      "\n",
      "é o vetor de R³ que minimiza o (PMQ)\n",
      "com valor mínimo de 1.8\n"
     ]
    }
   ],
   "source": [
    "A = [2 0 ; -1 0 ; 0 -1];\n",
    "b = [1 ; 1 ; 1]\n",
    "\n",
    "x = MinQuad(A, b)\n",
    "\n",
    "println(\"\\nx = \", x)\n",
    "println(\"\\né o vetor de R³ que minimiza o (PMQ)\\ncom valor mínimo de \", norm(A*x - b)^2)"
   ]
  }
 ],
 "metadata": {
  "kernelspec": {
   "display_name": "Julia 1.9.3",
   "language": "julia",
   "name": "julia-1.9"
  },
  "language_info": {
   "file_extension": ".jl",
   "mimetype": "application/julia",
   "name": "julia",
   "version": "1.9.3"
  }
 },
 "nbformat": 4,
 "nbformat_minor": 2
}
