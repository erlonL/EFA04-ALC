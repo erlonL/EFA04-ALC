{
 "cells": [
  {
   "cell_type": "code",
   "execution_count": 2,
   "metadata": {},
   "outputs": [],
   "source": [
    "using LinearAlgebra"
   ]
  },
  {
   "cell_type": "code",
   "execution_count": 89,
   "metadata": {},
   "outputs": [
    {
     "data": {
      "text/plain": [
       "GS_MOD (generic function with 1 method)"
      ]
     },
     "metadata": {},
     "output_type": "display_data"
    }
   ],
   "source": [
    "function GS_MOD(A)\n",
    "    m, n = size(A)\n",
    "    Q = zeros(m, n)\n",
    "    R = zeros(n, n)\n",
    "\n",
    "    kValues = []\n",
    "    print(\"Para k = \")\n",
    "    for k = 1:n\n",
    "        print(k, \" \")\n",
    "    end\n",
    "\n",
    "    print(\"faça\\n\")\n",
    "\n",
    "\n",
    "    for k = 1:n\n",
    "        print(\"\\tPara k = $k faça:\\n\")\n",
    "        v = A[:, k]\n",
    "        print(\"\\t\\tu$k = A(:, $k) => \", v, \"\\n\")\n",
    "        for j = 1:k-1\n",
    "            print(\"\\t\\tPara j = $j faça:\\n\")\n",
    "            print(\"\\t\\t\\tR[$j, $k] = w$j'*u$k => \", dot(Q[:, j], A[:, k]), \"\\n\")\n",
    "            R[j, k] = dot(Q[:, j], A[:, k])\n",
    "            print(\"\\t\\t\\tu$k = u$k - R[$j, $k]*w$j => \", v - R[j, k]*Q[:, j], \"\\n\")\n",
    "            v = v - R[j, k]*Q[:, j]\n",
    "        end\n",
    "        print(\"\\t\\tr[$k, $k] = norm(u$k) => \", norm(v), \"\\n\")\n",
    "        print(\"\\t\\tw$k = u$k/r[$k, $k] => \", v/norm(v), \"\\n\") # Q[:, k] = v/R[k, k\n",
    "        R[k, k] = norm(v)\n",
    "        Q[:, k] = v/R[k, k]\n",
    "        print(\"\\n\")\n",
    "    end\n",
    "    return Q, R\n",
    "end"
   ]
  },
  {
   "cell_type": "code",
   "execution_count": 90,
   "metadata": {},
   "outputs": [
    {
     "name": "stdout",
     "output_type": "stream",
     "text": [
      "Para k = 1 2 faça\n",
      "\tPara k = 1 faça:\n",
      "\t\tu1 = A(:, 1) => [4.0, 3.0, 0.0]\n",
      "\t\tr[1, 1] = norm(u1) => 5.0\n",
      "\t\tw1 = u1/r[1, 1] => [0.8, 0.6, 0.0]\n",
      "\n",
      "\tPara k = 2 faça:\n",
      "\t\tu2 = A(:, 2) => [5.0, 5.0, -0.5]\n",
      "\t\tPara j = 1 faça:\n",
      "\t\t\tR[1, 2] = w1'*u2 => 7.0\n",
      "\t\t\tu2 = u2 - R[1, 2]*w1 => [-0.6000000000000005, 0.7999999999999998, -0.5]\n",
      "\t\tr[2, 2] = norm(u2) => 1.1180339887498951\n",
      "\t\tw2 = u2/r[2, 2] => [-0.5366563145999499, 0.7155417527999324, -0.4472135954999578]\n",
      "\n"
     ]
    },
    {
     "data": {
      "text/plain": [
       "3×2 Matrix{Float64}:\n",
       " 4.0   5.0\n",
       " 3.0   5.0\n",
       " 0.0  -0.5"
      ]
     },
     "metadata": {},
     "output_type": "display_data"
    }
   ],
   "source": [
    "A = [4 5 ; 3 5 ; 0 -1/2];\n",
    "\n",
    "Q, R = GS_MOD(A);\n",
    "\n",
    "# println(\"Q = \", Q)\n",
    "# println(\"R = \", R)\n",
    "Q * R"
   ]
  },
  {
   "cell_type": "code",
   "execution_count": 91,
   "metadata": {},
   "outputs": [
    {
     "name": "stdout",
     "output_type": "stream",
     "text": [
      "Para k = 1 2 3 faça\n",
      "\tPara k = 1 faça:\n",
      "\t\tu1 = A(:, 1) => [1, 2, 1, -1]\n",
      "\t\tr[1, 1] = norm(u1) => 2.6457513110645907\n",
      "\t\tw1 = u1/r[1, 1] => [0.3779644730092272, 0.7559289460184544, 0.3779644730092272, -0.3779644730092272]\n",
      "\n",
      "\tPara k = 2 faça:\n",
      "\t\tu2 = A(:, 2) => [-2, -1, -1, 0]\n",
      "\t\tPara j = 1 faça:\n",
      "\t\t\tR[1, 2] = w1'*u2 => -1.889822365046136\n",
      "\t\t\tu2 = u2 - R[1, 2]*w1 => [-1.2857142857142858, 0.4285714285714284, -0.2857142857142858, -0.7142857142857142]\n",
      "\t\tr[2, 2] = norm(u2) => 1.5583874449479593\n",
      "\t\tw2 = u2/r[2, 2] => [-0.8250286473253902, 0.27500954910846326, -0.1833396994056423, -0.4583492485141055]\n",
      "\n",
      "\tPara k = 3 faça:\n",
      "\t\tu3 = A(:, 3) => [1, 0, 1, 2]\n",
      "\t\tPara j = 1 faça:\n",
      "\t\t\tR[1, 3] = w1'*u3 => 0.0\n",
      "\t\t\tu3 = u3 - R[1, 3]*w1 => [1.0, 0.0, 1.0, 2.0]\n",
      "\t\tPara j = 2 faça:\n",
      "\t\t\tR[2, 3] = w2'*u3 => -1.9250668437592435\n",
      "\t\t\tu3 = u3 - R[2, 3]*w2 => [-0.588235294117647, 0.529411764705882, 0.6470588235294117, 1.1176470588235299]\n",
      "\t\tr[3, 3] = norm(u3) => 1.5146344928922042\n",
      "\t\tw3 = u3/r[3, 3] => [-0.3883678186903085, 0.3495310368212775, 0.4272046005593394, 0.7378988555115866]\n",
      "\n"
     ]
    },
    {
     "data": {
      "text/plain": [
       "4×3 Matrix{Float64}:\n",
       "  1.0  -2.0           1.0\n",
       "  2.0  -1.0          -1.53522e-17\n",
       "  1.0  -1.0           1.0\n",
       " -1.0   3.91257e-17   2.0"
      ]
     },
     "metadata": {},
     "output_type": "display_data"
    }
   ],
   "source": [
    "A = [1 -2 1 ; 2 -1 0 ; 1 -1 1 ; -1 0 2];\n",
    "\n",
    "Q, R = GS_MOD(A);\n",
    "\n",
    "Q * R"
   ]
  },
  {
   "cell_type": "code",
   "execution_count": 92,
   "metadata": {},
   "outputs": [
    {
     "name": "stdout",
     "output_type": "stream",
     "text": [
      "Para k = 1 2 3 faça\n",
      "\tPara k = 1 faça:\n",
      "\t\tu1 = A(:, 1) => [12, 5, -4]\n",
      "\t\tr[1, 1] = norm(u1) => 13.601470508735444\n",
      "\t\tw1 = u1/r[1, 1] => [0.8822575465125693, 0.36760731104690386, -0.2940858488375231]\n",
      "\n",
      "\tPara k = 2 faça:\n",
      "\t\tu2 = A(:, 2) => [-51, 167, 24]\n",
      "\t\tPara j = 1 faça:\n",
      "\t\t\tR[1, 2] = w1'*u2 => 9.337225700591363\n",
      "\t\t\tu2 = u2 - R[1, 2]*w1 => [-59.237837837837844, 163.56756756756758, 26.745945945945948]\n",
      "\t\tr[2, 2] = norm(u2) => 176.00800043241279\n",
      "\t\tw2 = u2/r[2, 2] => [-0.33656332491877394, 0.9293189353081576, 0.1519586943788752]\n",
      "\n",
      "\tPara k = 3 faça:\n",
      "\t\tu3 = A(:, 3) => [4, -68, -41]\n",
      "\t\tPara j = 1 faça:\n",
      "\t\t\tR[1, 3] = w1'*u3 => -9.410747162800739\n",
      "\t\t\tu3 = u3 - R[1, 3]*w1 => [12.302702702702701, -64.54054054054055, -43.76756756756757]\n",
      "\t\tPara j = 2 faça:\n",
      "\t\t\tR[2, 3] = w2'*u3 => -70.7702473701637\n",
      "\t\t\tu3 = u3 - R[2, 3]*w2 => [-11.515967057523712, 1.227590396994927, -33.01341317632747]\n",
      "\t\tr[3, 3] = norm(u3) => 34.98585321245828\n",
      "\t\tw3 = u3/r[3, 3] => [-0.32916067496169954, 0.03508819377764348, -0.943621782663044]\n",
      "\n"
     ]
    },
    {
     "data": {
      "text/plain": [
       "3×3 Matrix{Float64}:\n",
       " 12.0  -51.0    4.0\n",
       "  5.0  167.0  -68.0\n",
       " -4.0   24.0  -41.0"
      ]
     },
     "metadata": {},
     "output_type": "display_data"
    }
   ],
   "source": [
    "A = [12 -51 4 ; 5 167 -68 ; -4 24 -41]\n",
    "Q, R = GS_MOD(A)\n",
    "\n",
    "Q * R"
   ]
  },
  {
   "cell_type": "code",
   "execution_count": 93,
   "metadata": {},
   "outputs": [
    {
     "name": "stdout",
     "output_type": "stream",
     "text": [
      "Para k = 1 2 3 faça\n",
      "\tPara k = 1 faça:\n",
      "\t\tu1 = A(:, 1) => [2, -2, -1]\n",
      "\t\tr[1, 1] = norm(u1) => 3.0\n",
      "\t\tw1 = u1/r[1, 1] => [0.6666666666666666, -0.6666666666666666, -0.3333333333333333]\n",
      "\n",
      "\tPara k = 2 faça:\n",
      "\t\tu2 = A(:, 2) => [1, 0, 2]\n",
      "\t\tPara j = 1 faça:\n",
      "\t\t\tR[1, 2] = w1'*u2 => 0.0\n",
      "\t\t\tu2 = u2 - R[1, 2]*w1 => [1.0, 0.0, 2.0]\n",
      "\t\tr[2, 2] = norm(u2) => 2.23606797749979\n",
      "\t\tw2 = u2/r[2, 2] => [0.4472135954999579, 0.0, 0.8944271909999159]\n",
      "\n",
      "\tPara k = 3 faça:\n",
      "\t\tu3 = A(:, 3) => [-3, -2, 1]\n",
      "\t\tPara j = 1 faça:\n",
      "\t\t\tR[1, 3] = w1'*u3 => -1.0\n",
      "\t\t\tu3 = u3 - R[1, 3]*w1 => [-2.3333333333333335, -2.6666666666666665, 0.6666666666666667]\n",
      "\t\tPara j = 2 faça:\n",
      "\t\t\tR[2, 3] = w2'*u3 => -0.447213595499958\n",
      "\t\t\tu3 = u3 - R[2, 3]*w2 => [-2.1333333333333333, -2.6666666666666665, 1.0666666666666669]\n",
      "\t\tr[3, 3] = norm(u3) => 3.5777087639996634\n",
      "\t\tw3 = u3/r[3, 3] => [-0.5962847939999439, -0.7453559924999299, 0.298142396999972]\n",
      "\n"
     ]
    },
    {
     "data": {
      "text/plain": [
       "3×3 Matrix{Float64}:\n",
       "  2.0  1.0  -3.0\n",
       " -2.0  0.0  -2.0\n",
       " -1.0  2.0   1.0"
      ]
     },
     "metadata": {},
     "output_type": "display_data"
    }
   ],
   "source": [
    "B = [2 1 -3 ; -2 0 -2 ; -1 2 1]\n",
    "\n",
    "Q, R = GS_MOD(B)\n",
    "\n",
    "Q * R"
   ]
  }
 ],
 "metadata": {
  "kernelspec": {
   "display_name": "Julia 1.9.3",
   "language": "julia",
   "name": "julia-1.9"
  },
  "language_info": {
   "file_extension": ".jl",
   "mimetype": "application/julia",
   "name": "julia",
   "version": "1.9.3"
  }
 },
 "nbformat": 4,
 "nbformat_minor": 2
}
