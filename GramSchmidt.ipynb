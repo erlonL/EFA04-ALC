{
 "cells": [
  {
   "cell_type": "code",
   "execution_count": 9,
   "metadata": {},
   "outputs": [],
   "source": [
    "using LinearAlgebra"
   ]
  },
  {
   "cell_type": "code",
   "execution_count": 66,
   "metadata": {},
   "outputs": [
    {
     "data": {
      "text/plain": [
       "2×2 Matrix{Float64}:\n",
       " 4.0  1.0\n",
       " 5.0  3.0"
      ]
     },
     "metadata": {},
     "output_type": "display_data"
    }
   ],
   "source": [
    "# Algoritmo QR manual\n",
    "\n",
    "A = [4 1 ; 5 3]\n",
    "U = zeros(2, 2)\n",
    "\n",
    "U[:, 1] = A[:, 1] / norm(A[:, 1])\n",
    "\n",
    "U[:, 2] = (A[:, 2] - dot(U[:, 1], A[:, 2]) * U[:, 1])\n",
    "U[:, 2] = U[:, 2] / norm(U[:, 2])\n",
    "\n",
    "Q = U\n",
    "R = Q' * A\n",
    "\n",
    "Q*R # igual a A"
   ]
  },
  {
   "cell_type": "code",
   "execution_count": 39,
   "metadata": {},
   "outputs": [
    {
     "data": {
      "text/plain": [
       "GS (generic function with 1 method)"
      ]
     },
     "metadata": {},
     "output_type": "display_data"
    }
   ],
   "source": [
    "function GS(A)\n",
    "    n, k = size(A)\n",
    "    U = zeros(n, k)\n",
    "    U[:, 1] = A[:, 1] / norm(A[:, 1])\n",
    "\n",
    "    for i = 2:k\n",
    "        U[:, i] = A[:, i]\n",
    "        for j = 1:i-1\n",
    "            U[:, i] -= (U[:, j]' * A[:, i]) * U[:, j]\n",
    "        end\n",
    "        U[:, i] /= norm(U[:, i])\n",
    "    end\n",
    "\n",
    "    return U\n",
    "end"
   ]
  },
  {
   "cell_type": "code",
   "execution_count": 17,
   "metadata": {},
   "outputs": [
    {
     "data": {
      "text/plain": [
       "gram_schmidt (generic function with 1 method)"
      ]
     },
     "metadata": {},
     "output_type": "display_data"
    }
   ],
   "source": [
    "function gram_schmidt(a; tol = 1e-10)\n",
    "    \n",
    "    q = []           # inicializamos o array de saida como um array vazio\n",
    "    for i = 1:length(a)\n",
    "        qtilde = a[i]\n",
    "        for j = 1:i-1\n",
    "            qtilde -= (q[j]'*a[i]) * q[j]\n",
    "        end\n",
    "        if norm(qtilde) < tol\n",
    "            println(\"Os vetores são linearmente dependentes.\")\n",
    "            return q\n",
    "        end\n",
    "        push!(q, qtilde/norm(qtilde))    #Em cada iteração, adicionamos o seguinte vetor ao array usando a função push!\n",
    "        end;\n",
    "    return q\n",
    "end"
   ]
  },
  {
   "cell_type": "code",
   "execution_count": 10,
   "metadata": {},
   "outputs": [
    {
     "data": {
      "text/plain": [
       "proj (generic function with 1 method)"
      ]
     },
     "metadata": {},
     "output_type": "display_data"
    }
   ],
   "source": [
    "function proj(u, v)\n",
    "    return (dot(u, v) / dot(u, u)) * u\n",
    "end"
   ]
  },
  {
   "cell_type": "code",
   "execution_count": 11,
   "metadata": {},
   "outputs": [],
   "source": [
    "v = [4 ; 5];\n",
    "u = [1 ; 3];"
   ]
  },
  {
   "cell_type": "code",
   "execution_count": 15,
   "metadata": {},
   "outputs": [
    {
     "data": {
      "text/plain": [
       "2-element Vector{Float64}:\n",
       " 1.9\n",
       " 5.699999999999999"
      ]
     },
     "metadata": {},
     "output_type": "display_data"
    }
   ],
   "source": [
    "proj(u, v) # v sobre u"
   ]
  },
  {
   "cell_type": "code",
   "execution_count": 43,
   "metadata": {},
   "outputs": [
    {
     "data": {
      "text/plain": [
       "2-element Vector{Float64}:\n",
       " 1.853658536585366\n",
       " 2.3170731707317076"
      ]
     },
     "metadata": {},
     "output_type": "display_data"
    }
   ],
   "source": [
    "proj(v, u) # u sobre v"
   ]
  },
  {
   "cell_type": "code",
   "execution_count": 69,
   "metadata": {},
   "outputs": [
    {
     "name": "stdout",
     "output_type": "stream",
     "text": [
      "true\n"
     ]
    },
    {
     "data": {
      "text/plain": [
       "3×3 Matrix{Float64}:\n",
       " 1.0   1.0           2.0\n",
       " 0.0  -2.22045e-16   1.0\n",
       " 1.0  -1.11022e-16  -9.86076e-32"
      ]
     },
     "metadata": {},
     "output_type": "display_data"
    }
   ],
   "source": [
    "A = [1 1 2 ; 0 0 1; 1 0 0]\n",
    "\n",
    "println(det(A) != 0)\n",
    "GS(A) * (GS(A)' * A) # Q * R"
   ]
  },
  {
   "cell_type": "code",
   "execution_count": 70,
   "metadata": {},
   "outputs": [
    {
     "name": "stdout",
     "output_type": "stream",
     "text": [
      "true\n"
     ]
    },
    {
     "data": {
      "text/plain": [
       "3×3 Matrix{Float64}:\n",
       "  25.0   11.04    9.28\n",
       "  95.0  146.0    72.0\n",
       " -10.0    6.0   -33.0"
      ]
     },
     "metadata": {},
     "output_type": "display_data"
    }
   ],
   "source": [
    "B = [25 276/25 232/25 ; 95 146 72 ; -10 6 -33]\n",
    "\n",
    "println(det(B) != 0)\n",
    "GS(B) * (GS(B)' * B) # Q * R"
   ]
  },
  {
   "cell_type": "code",
   "execution_count": 72,
   "metadata": {},
   "outputs": [
    {
     "data": {
      "text/plain": [
       "3×3 Matrix{Float64}:\n",
       " 98.7421       142.654       74.963\n",
       " -1.33227e-13   33.5199      -8.27422\n",
       " -1.19904e-13   -4.9738e-14  25.9077"
      ]
     },
     "metadata": {},
     "output_type": "display_data"
    }
   ],
   "source": [
    "GS(B)' * B"
   ]
  }
 ],
 "metadata": {
  "kernelspec": {
   "display_name": "Julia 1.9.3",
   "language": "julia",
   "name": "julia-1.9"
  },
  "language_info": {
   "file_extension": ".jl",
   "mimetype": "application/julia",
   "name": "julia",
   "version": "1.9.3"
  }
 },
 "nbformat": 4,
 "nbformat_minor": 2
}
