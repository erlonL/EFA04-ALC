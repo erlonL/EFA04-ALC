{
 "cells": [
  {
   "cell_type": "code",
   "execution_count": 3,
   "metadata": {},
   "outputs": [],
   "source": [
    "using LinearAlgebra\n",
    "using Printf"
   ]
  },
  {
   "cell_type": "code",
   "execution_count": 4,
   "metadata": {},
   "outputs": [
    {
     "data": {
      "text/plain": [
       "GS_MOD (generic function with 1 method)"
      ]
     },
     "metadata": {},
     "output_type": "display_data"
    }
   ],
   "source": [
    "function GS_MOD(A)\n",
    "    m, n = size(A)\n",
    "    Q = zeros(m, n)\n",
    "    R = zeros(n, n)\n",
    "\n",
    "    u = []\n",
    "    for i = 1:n\n",
    "        push!(u, A[:, i])\n",
    "    end\n",
    "    for k = 1:n\n",
    "        R[k, k] = norm(u[k])\n",
    "        Q[:, k] = u[k]/R[k, k]\n",
    "        for j = k+1:n\n",
    "            R[k, j] = dot(Q[:, k], u[j])\n",
    "            u[j] = u[j] - R[k, j]*Q[:, k]\n",
    "        end\n",
    "    end\n",
    "    return Q, R\n",
    "end"
   ]
  },
  {
   "cell_type": "code",
   "execution_count": 12,
   "metadata": {},
   "outputs": [
    {
     "data": {
      "text/plain": [
       "GS_MOD_LOG (generic function with 1 method)"
      ]
     },
     "metadata": {},
     "output_type": "display_data"
    }
   ],
   "source": [
    "function GS_MOD_LOG(A)\n",
    "    m, n = size(A)\n",
    "    Q = zeros(m, n)\n",
    "    R = zeros(n, n)\n",
    "\n",
    "    kValues = []\n",
    "    print(\"Para k = \")\n",
    "    for k = 1:n\n",
    "        print(k, \" \")\n",
    "    end\n",
    "\n",
    "    print(\"faça\\n\")\n",
    "\n",
    "    u = []\n",
    "    for i = 1:n\n",
    "        push!(u, A[:, i])\n",
    "        print(\"\\tu$i = A[:, $i] => \", u[i], \"\\n\")\n",
    "    end\n",
    "\n",
    "\n",
    "    for k = 1:n\n",
    "        print(\"\\tPara k = $k faça:\\n\")\n",
    "        # v = u[k]\n",
    "        # print(\"\\t\\tu$k = A(:, $k) => \", v, \"\\n\")\n",
    "        print(\"\\t\\tr[$k, $k] = norm(u$k) => \", round.((norm(u[k])); digits = 5), \"\\n\")\n",
    "        print(\"\\t\\tw$k = u$k/r[$k, $k] => \", round.((u[k]/norm(u[k])); digits = 5), \"\\n\") # Q[:, k] = v/R[k, k\n",
    "        R[k, k] = norm(u[k])\n",
    "        Q[:, k] = u[k]/R[k, k]\n",
    "        for j = k+1:n\n",
    "            print(\"\\t\\tPara j = $j faça:\\n\")\n",
    "            print(\"\\t\\t\\tR[$k, $j] = w$k'*u$j => \", round.((dot(Q[:, k], u[j])); digits = 5), \"\\n\")\n",
    "            R[k, j] = dot(Q[:, k], u[j])\n",
    "            print(\"\\t\\t\\tu$j = u$j - R[$k, $j]*w$k => \", round.((u[j] - R[k, j]*Q[:, k]); digits = 5), \"\\n\")\n",
    "            # v = A[:, j] - R[k, j]*Q[:, k]\n",
    "            # v = v - R[k, j]*Q[:, k]\n",
    "            u[j] = u[j] - R[k, j]*Q[:, k]\n",
    "        end\n",
    "        print(\"\\n\")\n",
    "    end\n",
    "    return Q, R\n",
    "end"
   ]
  },
  {
   "cell_type": "code",
   "execution_count": 13,
   "metadata": {},
   "outputs": [
    {
     "name": "stdout",
     "output_type": "stream",
     "text": [
      "Para k = 1 2 faça\n",
      "\tu1 = A[:, 1] => [4.0, 3.0, 0.0]\n",
      "\tu2 = A[:, 2] => [5.0, 5.0, -0.5]\n",
      "\tPara k = 1 faça:\n",
      "\t\tr[1, 1] = norm(u1) => 5.0\n",
      "\t\tw1 = u1/r[1, 1] => [0.8, 0.6, 0.0]\n",
      "\t\tPara j = 2 faça:\n",
      "\t\t\tR[1, 2] = w1'*u2 => 7.0\n",
      "\t\t\tu2 = u2 - R[1, 2]*w1 => [-0.6, 0.8, -0.5]\n",
      "\n",
      "\tPara k = 2 faça:\n",
      "\t\tr[2, 2] = norm(u2) => 1.11803\n",
      "\t\tw2 = u2/r[2, 2] => [-0.53666, 0.71554, -0.44721]\n",
      "\n",
      "\n",
      "A composição QR reduzida de \n",
      "A = [4.0 5.0; 3.0 5.0; 0.0 -0.5] é\n",
      "\n",
      "R = [5.0 7.0; 0.0 1.118034] e \n",
      "Q = [0.8 -0.536656; 0.6 0.715542; 0.0 -0.447214]\n"
     ]
    },
    {
     "data": {
      "text/plain": [
       "3×2 Matrix{Float64}:\n",
       " 4.0   5.0\n",
       " 3.0   5.0\n",
       " 0.0  -0.5"
      ]
     },
     "metadata": {},
     "output_type": "display_data"
    }
   ],
   "source": [
    "A = [4 5 ; 3 5 ; 0 -1/2];\n",
    "\n",
    "Q, R = GS_MOD_LOG(A)\n",
    "\n",
    "println(\"\\nA composição QR reduzida de \\nA = $A é\\n\\nR = $(round.(R; digits=6)) e \\nQ = $(round.(Q; digits=6))\")\n",
    "Q * R"
   ]
  },
  {
   "cell_type": "code",
   "execution_count": 15,
   "metadata": {},
   "outputs": [
    {
     "name": "stdout",
     "output_type": "stream",
     "text": [
      "Para k = 1 2 3 faça\n",
      "\tu1 = A[:, 1] => [1, 2, 1, -1]\n",
      "\tu2 = A[:, 2] => [-2, -1, -1, 0]\n",
      "\tu3 = A[:, 3] => [1, 0, 1, 2]\n",
      "\tPara k = 1 faça:\n",
      "\t\tr[1, 1] = norm(u1) => 2.64575\n",
      "\t\tw1 = u1/r[1, 1] => [0.37796, 0.75593, 0.37796, -0.37796]\n",
      "\t\tPara j = 2 faça:\n",
      "\t\t\tR[1, 2] = w1'*u2 => -1.88982\n",
      "\t\t\tu2 = u2 - R[1, 2]*w1 => [-1.28571, 0.42857, -0.28571, -0.71429]\n",
      "\t\tPara j = 3 faça:\n",
      "\t\t\tR[1, 3] = w1'*u3 => 0.0\n",
      "\t\t\tu3 = u3 - R[1, 3]*w1 => [1.0, 0.0, 1.0, 2.0]\n",
      "\n",
      "\tPara k = 2 faça:\n",
      "\t\tr[2, 2] = norm(u2) => 1.55839\n",
      "\t\tw2 = u2/r[2, 2] => [-0.82503, 0.27501, -0.18334, -0.45835]\n",
      "\t\tPara j = 3 faça:\n",
      "\t\t\tR[2, 3] = w2'*u3 => -1.92507\n",
      "\t\t\tu3 = u3 - R[2, 3]*w2 => [-0.58824, 0.52941, 0.64706, 1.11765]\n",
      "\n",
      "\tPara k = 3 faça:\n",
      "\t\tr[3, 3] = norm(u3) => 1.51463\n",
      "\t\tw3 = u3/r[3, 3] => [-0.38837, 0.34953, 0.4272, 0.7379]\n",
      "\n",
      "\n",
      "A composição QR reduzida de \n",
      "A = [1 -2 1; 2 -1 0; 1 -1 1; -1 0 2] é\n",
      "\n",
      "R = [2.645751 -1.889822 0.0; 0.0 1.558387 -1.925067; 0.0 0.0 1.514634] e \n",
      "Q = [0.377964 -0.825029 -0.388368; 0.755929 0.27501 0.349531; 0.377964 -0.18334 0.427205; -0.377964 -0.458349 0.737899]\n"
     ]
    },
    {
     "data": {
      "text/plain": [
       "4×3 Matrix{Float64}:\n",
       "  1.0  -2.0           1.0\n",
       "  2.0  -1.0          -1.53522e-17\n",
       "  1.0  -1.0           1.0\n",
       " -1.0   3.91257e-17   2.0"
      ]
     },
     "metadata": {},
     "output_type": "display_data"
    }
   ],
   "source": [
    "A = [1 -2 1 ; 2 -1 0 ; 1 -1 1 ; -1 0 2];\n",
    "\n",
    "Q, R = GS_MOD_LOG(A)\n",
    "\n",
    "println(\"\\nA composição QR reduzida de \\nA = $A é\\n\\nR = $(round.(R; digits=6)) e \\nQ = $(round.(Q; digits=6))\")\n",
    "Q * R"
   ]
  },
  {
   "cell_type": "markdown",
   "metadata": {},
   "source": [
    "# PMQ / Solução de Sistemas com QR Reduzido"
   ]
  },
  {
   "cell_type": "code",
   "execution_count": 16,
   "metadata": {},
   "outputs": [],
   "source": [
    "A = [4 5 ; 3 5 ; 0 -1/2];\n",
    "b = [1 ; -3 ; -2];"
   ]
  },
  {
   "cell_type": "code",
   "execution_count": 17,
   "metadata": {},
   "outputs": [],
   "source": [
    "Q, R = GS_MOD(A);"
   ]
  },
  {
   "cell_type": "code",
   "execution_count": 18,
   "metadata": {},
   "outputs": [
    {
     "data": {
      "text/plain": [
       "2-element Vector{Float64}:\n",
       " -1.0\n",
       " -1.78885"
      ]
     },
     "metadata": {},
     "output_type": "display_data"
    }
   ],
   "source": [
    "bch = Q'*b\n",
    "bch = round.(bch; digits=5)"
   ]
  },
  {
   "cell_type": "code",
   "execution_count": 19,
   "metadata": {},
   "outputs": [
    {
     "name": "stdout",
     "output_type": "stream",
     "text": [
      "x = [2.04, -1.6]\n",
      "\n",
      "é o vetor de R² que minimiza o (PMQ)\n",
      "com valor mínimo de "
     ]
    },
    {
     "name": "stdout",
     "output_type": "stream",
     "text": [
      "9.8\n"
     ]
    }
   ],
   "source": [
    "x = R\\bch\n",
    "x = round.(x; digits=2)\n",
    "\n",
    "println(\"x = \", x)\n",
    "println(\"\\né o vetor de R² que minimiza o (PMQ)\\ncom valor mínimo de \", norm(A*x - b)^2)"
   ]
  },
  {
   "cell_type": "markdown",
   "metadata": {},
   "source": [
    "## Função Mínimos Quadrados (QR Reduzido com GS_MOD)"
   ]
  },
  {
   "cell_type": "code",
   "execution_count": 20,
   "metadata": {},
   "outputs": [
    {
     "data": {
      "text/plain": [
       "MinQuad (generic function with 1 method)"
      ]
     },
     "metadata": {},
     "output_type": "display_data"
    }
   ],
   "source": [
    "function MinQuad(A, b)\n",
    "    Q, R = GS_MOD(A);\n",
    "    bch = Q'*b\n",
    "    bch = round.(bch; digits=5)\n",
    "    x = R\\bch\n",
    "    x = round.(x; digits=2)\n",
    "    return x\n",
    "end"
   ]
  },
  {
   "cell_type": "code",
   "execution_count": 21,
   "metadata": {},
   "outputs": [
    {
     "name": "stdout",
     "output_type": "stream",
     "text": [
      "x = [4.0, 6.0, 2.33]\n",
      "\n",
      "é o vetor de R² que minimiza o (PMQ)\n",
      "com valor mínimo de 69.33340000000001\n"
     ]
    }
   ],
   "source": [
    "A = [1 -2 1 ; 2 -1 0 ; 1 -1 1 ; -1 0 2];\n",
    "b = [-7 ; -2 ; 7 ; -2];\n",
    "\n",
    "x = MinQuad(A, b)\n",
    "println(\"x = \", x)\n",
    "println(\"\\né o vetor de R² que minimiza o (PMQ)\\ncom valor mínimo de \", norm(A*x - b)^2)"
   ]
  }
 ],
 "metadata": {
  "kernelspec": {
   "display_name": "Julia 1.9.3",
   "language": "julia",
   "name": "julia-1.9"
  },
  "language_info": {
   "file_extension": ".jl",
   "mimetype": "application/julia",
   "name": "julia",
   "version": "1.9.3"
  }
 },
 "nbformat": 4,
 "nbformat_minor": 2
}
