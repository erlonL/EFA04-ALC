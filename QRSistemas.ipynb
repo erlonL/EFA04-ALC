{
 "cells": [
  {
   "cell_type": "markdown",
   "metadata": {},
   "source": [
    "# Solução de Sistemas com QR"
   ]
  },
  {
   "cell_type": "code",
   "execution_count": 1,
   "metadata": {},
   "outputs": [],
   "source": [
    "using LinearAlgebra"
   ]
  },
  {
   "cell_type": "code",
   "execution_count": 3,
   "metadata": {},
   "outputs": [
    {
     "data": {
      "text/plain": [
       "GS_MOD (generic function with 1 method)"
      ]
     },
     "metadata": {},
     "output_type": "display_data"
    }
   ],
   "source": [
    "include(\"GS_MOD.jl\")"
   ]
  },
  {
   "cell_type": "code",
   "execution_count": 8,
   "metadata": {},
   "outputs": [],
   "source": [
    "A = [12 -51 4 ; 6 167 -68 ; -4 24 -41];\n",
    "b = [-7/2 ; 259/2 ; 49/2];"
   ]
  },
  {
   "cell_type": "code",
   "execution_count": 6,
   "metadata": {},
   "outputs": [],
   "source": [
    "Q, R = GS_MOD(A);"
   ]
  },
  {
   "cell_type": "code",
   "execution_count": 10,
   "metadata": {},
   "outputs": [],
   "source": [
    "y = Q'*b;\n",
    "x = R\\y; # solução do sistema"
   ]
  },
  {
   "cell_type": "code",
   "execution_count": 14,
   "metadata": {},
   "outputs": [
    {
     "data": {
      "text/plain": [
       "3-element Vector{Float64}:\n",
       "  2.0\n",
       "  0.4999999999999998\n",
       " -0.5000000000000004"
      ]
     },
     "metadata": {},
     "output_type": "display_data"
    }
   ],
   "source": [
    "x = R\\y # solução do sistema"
   ]
  },
  {
   "cell_type": "markdown",
   "metadata": {},
   "source": [
    "# Autovalores com QR"
   ]
  },
  {
   "cell_type": "markdown",
   "metadata": {},
   "source": [
    "Iteração 0: \n",
    "- Faça $A_0 = A$\n",
    "- Obtenha a decomposição QR de $A_0$\n",
    "$$A_0 = Q_1R_1$$\n",
    "\n",
    "Para $k$ iterações, faça:\n",
    "\n",
    "- Faça $A_k = R_kQ_k$\n",
    "- Obtenha a decomposição QR de $A_k$\n",
    "$$A_k = Q_{k+1}R_{k+1}$$"
   ]
  },
  {
   "cell_type": "code",
   "execution_count": 39,
   "metadata": {},
   "outputs": [
    {
     "data": {
      "text/plain": [
       "Autoval (generic function with 2 methods)"
      ]
     },
     "metadata": {},
     "output_type": "display_data"
    }
   ],
   "source": [
    "function Autoval(A, n)\n",
    "    Av = copy(A)\n",
    "    Q, R = GS_MOD(Av)\n",
    "\n",
    "    for i = 1:n\n",
    "        Av = R*Q\n",
    "        Q, R = GS_MOD(Av)\n",
    "    end\n",
    "    return Av\n",
    "end"
   ]
  },
  {
   "cell_type": "code",
   "execution_count": 41,
   "metadata": {},
   "outputs": [
    {
     "name": "stdout",
     "output_type": "stream",
     "text": [
      "Autovalores de A: 5.0 e -1.0"
     ]
    },
    {
     "data": {
      "text/plain": [
       "2×2 Matrix{Int64}:\n",
       " 1  2\n",
       " 4  3"
      ]
     },
     "metadata": {},
     "output_type": "display_data"
    }
   ],
   "source": [
    "A = [1 2 ; 4 3];\n",
    "Av = Autoval(A, 10) # Converge para [5 -2 ; 0 -1]\n",
    "                # Também tende a ser uma matriz triangular superior\n",
    "\n",
    "λ1 = round(Av[1,1]);\n",
    "λ2 = round(Av[2,2]);\n",
    "\n",
    "print(\"Autovalores de A: \", λ1, \" e \", λ2)\n",
    "A"
   ]
  },
  {
   "cell_type": "code",
   "execution_count": 42,
   "metadata": {},
   "outputs": [
    {
     "name": "stdout",
     "output_type": "stream",
     "text": [
      "Autovalores de A:\n",
      "3.0\n",
      "2.0\n",
      "1.0"
     ]
    },
    {
     "data": {
      "text/plain": [
       "3×3 Matrix{Int64}:\n",
       "  2  -1  0\n",
       " -1   2  1\n",
       "  0   1  2"
      ]
     },
     "metadata": {},
     "output_type": "display_data"
    }
   ],
   "source": [
    "A = [2 -1 0 ; -1 2 1 ; 0 1 2];\n",
    "\n",
    "Av = Autoval(A, 4) # Converge para [3 0 0 ; 0 2 0 ; 0 0 1]\n",
    "                # Também tende a ser uma matriz diagonal\n",
    "\n",
    "λ1 = round(Av[1,1]);\n",
    "λ2 = round(Av[2,2]);\n",
    "λ3 = round(Av[3,3]);\n",
    "\n",
    "print(\"Autovalores de A:\\n\", λ1, \"\\n\", λ2, \"\\n\", λ3)\n",
    "A\n"
   ]
  }
 ],
 "metadata": {
  "kernelspec": {
   "display_name": "Julia 1.9.3",
   "language": "julia",
   "name": "julia-1.9"
  },
  "language_info": {
   "file_extension": ".jl",
   "mimetype": "application/julia",
   "name": "julia",
   "version": "1.9.3"
  }
 },
 "nbformat": 4,
 "nbformat_minor": 2
}
