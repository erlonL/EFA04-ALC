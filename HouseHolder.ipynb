{
 "cells": [
  {
   "cell_type": "code",
   "execution_count": 2,
   "metadata": {},
   "outputs": [],
   "source": [
    "using LinearAlgebra"
   ]
  },
  {
   "cell_type": "code",
   "execution_count": 2,
   "metadata": {},
   "outputs": [
    {
     "data": {
      "text/plain": [
       "qrfact (generic function with 1 method)"
      ]
     },
     "metadata": {},
     "output_type": "display_data"
    }
   ],
   "source": [
    "function qrfact(A)\n",
    "    m,n = size(A)\n",
    "    Qt = diagm(ones(m))\n",
    "    R = float(copy(A))\n",
    "    for k in 1:n\n",
    "        z = R[k:m,k]\n",
    "        w = [ -sign(z[1])*norm(z) - z[1]; -z[2:end] ]\n",
    "        nrmw = norm(w)\n",
    "        if nrmw < eps() continue; end    # skip this iteration\n",
    "        v = w / nrmw;\n",
    "        # Apply the reflection to each relevant column of A and Q\n",
    "        for j in 1:n\n",
    "            R[k:m,j] -= v*( 2*(v'*R[k:m,j]) )\n",
    "        end\n",
    "        for j in 1:m\n",
    "            Qt[k:m,j] -= v*( 2*(v'*Qt[k:m,j]) )\n",
    "        end\n",
    "    end\n",
    "    return Qt',triu(R)\n",
    "end"
   ]
  },
  {
   "cell_type": "code",
   "execution_count": 3,
   "metadata": {},
   "outputs": [
    {
     "data": {
      "text/plain": [
       "3×3 Matrix{Float64}:\n",
       " 12.0  -51.0    4.0\n",
       "  6.0  167.0  -68.0\n",
       " -4.0   24.0  -41.0"
      ]
     },
     "metadata": {},
     "output_type": "display_data"
    }
   ],
   "source": [
    "A = [12 -51 4 ; 6 167 -68 ; -4 24 -41]\n",
    "\n",
    "# Q, R = HouseHolder(A)\n",
    "\n",
    "Q, R = qrfact(A)\n",
    "\n",
    "Q * R"
   ]
  },
  {
   "cell_type": "code",
   "execution_count": 4,
   "metadata": {},
   "outputs": [
    {
     "data": {
      "text/plain": [
       "3×3 adjoint(::Matrix{Float64}) with eltype Float64:\n",
       " -0.8   0.536656  -0.268328\n",
       " -0.6  -0.715542   0.357771\n",
       "  0.0   0.447214   0.894427"
      ]
     },
     "metadata": {},
     "output_type": "display_data"
    }
   ],
   "source": [
    "A = [4 5 ; 3 5; 0 -1/2];\n",
    "\n",
    "Q, R = qrfact(A)\n",
    "\n",
    "Q"
   ]
  },
  {
   "cell_type": "markdown",
   "metadata": {},
   "source": [
    "# QR Reduzido Manual"
   ]
  },
  {
   "cell_type": "code",
   "execution_count": 12,
   "metadata": {},
   "outputs": [
    {
     "data": {
      "text/plain": [
       "3×3 Matrix{Float64}:\n",
       " 0.8   0.6  0.0\n",
       " 0.6  -0.8  0.0\n",
       " 0.0   0.0  1.0"
      ]
     },
     "metadata": {},
     "output_type": "display_data"
    }
   ],
   "source": [
    "A1 = A;\n",
    "\n",
    "x = A1[:,1]\n",
    "e1 = [1 ; 0 ; 0];\n",
    "α1 = norm(x)\n",
    "v = x - α1*e1;\n",
    "\n",
    "u = v / norm(v)\n",
    "\n",
    "Q1 = diagm(ones(3)) - 2*u*u'"
   ]
  },
  {
   "cell_type": "code",
   "execution_count": 17,
   "metadata": {},
   "outputs": [
    {
     "data": {
      "text/plain": [
       "2×1 Matrix{Float64}:\n",
       " -0.9999999999999991\n",
       " -0.5"
      ]
     },
     "metadata": {},
     "output_type": "display_data"
    }
   ],
   "source": [
    "A2 = Q1*A1\n",
    "A2til = A2[2:end,2:end]"
   ]
  },
  {
   "cell_type": "code",
   "execution_count": 23,
   "metadata": {},
   "outputs": [
    {
     "data": {
      "text/plain": [
       "3×3 Matrix{Float64}:\n",
       " 1.0   0.0        0.0\n",
       " 0.0  -0.894427  -0.447214\n",
       " 0.0  -0.447214   0.894427"
      ]
     },
     "metadata": {},
     "output_type": "display_data"
    }
   ],
   "source": [
    "x = A2til[:,1]\n",
    "e1 = [1 ; 0];\n",
    "\n",
    "α2 = norm(x)\n",
    "v = x - α2*e1;\n",
    "u = v / norm(v)\n",
    "\n",
    "Q2til = diagm(ones(2)) - 2*u*u'\n",
    "Q2 = [1 0 0 ; 0 Q2til[1,1] Q2til[1,2] ; 0 Q2til[2,1] Q2til[2,2]]"
   ]
  },
  {
   "cell_type": "code",
   "execution_count": 25,
   "metadata": {},
   "outputs": [
    {
     "data": {
      "text/plain": [
       "3×2 Matrix{Float64}:\n",
       "  5.0          7.0\n",
       " -3.97205e-16  1.11803\n",
       " -1.98603e-16  0.0"
      ]
     },
     "metadata": {},
     "output_type": "display_data"
    }
   ],
   "source": [
    "A3 = Q2*A2"
   ]
  },
  {
   "cell_type": "code",
   "execution_count": 27,
   "metadata": {},
   "outputs": [
    {
     "data": {
      "text/plain": [
       "3×2 Matrix{Float64}:\n",
       "  4.0           5.0\n",
       "  3.0           5.0\n",
       " -4.18842e-32  -0.5"
      ]
     },
     "metadata": {},
     "output_type": "display_data"
    }
   ],
   "source": [
    "R = A3\n",
    "Q = Q1*Q2\n",
    "\n",
    "Q * R"
   ]
  },
  {
   "cell_type": "code",
   "execution_count": 32,
   "metadata": {},
   "outputs": [
    {
     "data": {
      "text/plain": [
       "3×2 Matrix{Float64}:\n",
       " 0.8  -0.536656\n",
       " 0.6   0.715542\n",
       " 0.0  -0.447214"
      ]
     },
     "metadata": {},
     "output_type": "display_data"
    }
   ],
   "source": [
    "Qch = [Q[:,1] Q[:,2]]"
   ]
  },
  {
   "cell_type": "markdown",
   "metadata": {},
   "source": [
    "# Algoritmo manual"
   ]
  },
  {
   "cell_type": "code",
   "execution_count": 10,
   "metadata": {},
   "outputs": [],
   "source": [
    "# Passo 0\n",
    "A = [12 -51 4 ; 6 167 -68 ; -4 24 -41];\n",
    "\n",
    "n = size(A,1);"
   ]
  },
  {
   "cell_type": "code",
   "execution_count": 11,
   "metadata": {},
   "outputs": [
    {
     "data": {
      "text/plain": [
       "3×3 Matrix{Float64}:\n",
       "  0.857143   0.428571  -0.285714\n",
       "  0.428571  -0.285714   0.857143\n",
       " -0.285714   0.857143   0.428571"
      ]
     },
     "metadata": {},
     "output_type": "display_data"
    }
   ],
   "source": [
    "# Passo 1\n",
    "A1 = A;\n",
    "\n",
    "x = A1[:,1];\n",
    "e1 = zeros(n); e1[1] = 1;\n",
    "\n",
    "α1 = norm(x);\n",
    "v = x - α1*e1;\n",
    "u = v / norm(v);\n",
    "Q1 = diagm(ones(n)) - 2*u*u'"
   ]
  },
  {
   "cell_type": "code",
   "execution_count": 12,
   "metadata": {},
   "outputs": [
    {
     "data": {
      "text/plain": [
       "2×2 Matrix{Float64}:\n",
       " -49.0  -14.0\n",
       " 168.0  -77.0"
      ]
     },
     "metadata": {},
     "output_type": "display_data"
    }
   ],
   "source": [
    "# Passo 2\n",
    "A2 = Q1*A1;\n",
    "A2til = A2[2:end,2:end]"
   ]
  },
  {
   "cell_type": "code",
   "execution_count": 14,
   "metadata": {},
   "outputs": [
    {
     "data": {
      "text/plain": [
       "3×3 Matrix{Float64}:\n",
       " 1.0   0.0   0.0\n",
       " 0.0  -0.28  0.96\n",
       " 0.0   0.96  0.28"
      ]
     },
     "metadata": {},
     "output_type": "display_data"
    }
   ],
   "source": [
    "# n - 1 = 2\n",
    "# k = 2\n",
    "# Repita os passos 1 e 2 para A2til\n",
    "# Passo 1\n",
    "x = A2til[:,1];\n",
    "e1 = zeros(n-1); e1[1] = 1;\n",
    "\n",
    "α2 = norm(x);\n",
    "v = x - α2*e1;\n",
    "u = v / norm(v);\n",
    "Q2til = diagm(ones(n-1)) - 2*u*u'\n",
    "Q2 = [1 zeros(1,n-1) ; zeros(n-1,1) Q2til]"
   ]
  },
  {
   "cell_type": "code",
   "execution_count": 16,
   "metadata": {},
   "outputs": [
    {
     "data": {
      "text/plain": [
       "1×1 Matrix{Float64}:\n",
       " -35.0"
      ]
     },
     "metadata": {},
     "output_type": "display_data"
    }
   ],
   "source": [
    "# Determinando A3 e A3til\n",
    "# Passo 2\n",
    "A3 = Q2*A2\n",
    "A3til = A3[3:end,3:end]"
   ]
  },
  {
   "cell_type": "code",
   "execution_count": 17,
   "metadata": {},
   "outputs": [
    {
     "data": {
      "text/plain": [
       "3×3 Matrix{Float64}:\n",
       " 12.0  -51.0    4.0\n",
       "  6.0  167.0  -68.0\n",
       " -4.0   24.0  -41.0"
      ]
     },
     "metadata": {},
     "output_type": "display_data"
    }
   ],
   "source": [
    "Q = Q1*Q2\n",
    "R = A3\n",
    "\n",
    "Q * R"
   ]
  },
  {
   "cell_type": "code",
   "execution_count": 18,
   "metadata": {},
   "outputs": [
    {
     "data": {
      "text/plain": [
       "HouseHolderQR (generic function with 1 method)"
      ]
     },
     "metadata": {},
     "output_type": "display_data"
    }
   ],
   "source": [
    "# ** FUNÇÃO NÃO FUNCIONA **\n",
    "\n",
    "function HouseHolderQR(A)\n",
    "    n = size(A,1);\n",
    "\n",
    "    for k in 1:n-1\n",
    "        Atil = A[k:end,k:end]\n",
    "        x = Atil[:,1];\n",
    "        e1 = zeros(n-k+1); e1[1] = 1;\n",
    "\n",
    "        α = norm(x);\n",
    "        v = x - α*e1;\n",
    "        u = v / norm(v);\n",
    "        Qtil = diagm(ones(n-k+1)) - 2*u*u'\n",
    "        Q = [diagm(ones(k-1)) zeros(k-1,n-k+1) ; zeros(n-k+1,k-1) Qtil]\n",
    "        A = Q*A\n",
    "    end\n",
    "    return A\n",
    "end"
   ]
  },
  {
   "cell_type": "code",
   "execution_count": null,
   "metadata": {},
   "outputs": [],
   "source": []
  }
 ],
 "metadata": {
  "kernelspec": {
   "display_name": "Julia 1.9.3",
   "language": "julia",
   "name": "julia-1.9"
  },
  "language_info": {
   "file_extension": ".jl",
   "mimetype": "application/julia",
   "name": "julia",
   "version": "1.9.3"
  }
 },
 "nbformat": 4,
 "nbformat_minor": 2
}
