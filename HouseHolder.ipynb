{
 "cells": [
  {
   "cell_type": "code",
   "execution_count": 1,
   "metadata": {},
   "outputs": [],
   "source": [
    "using LinearAlgebra"
   ]
  },
  {
   "cell_type": "code",
   "execution_count": 2,
   "metadata": {},
   "outputs": [
    {
     "data": {
      "text/plain": [
       "qrfact (generic function with 1 method)"
      ]
     },
     "metadata": {},
     "output_type": "display_data"
    }
   ],
   "source": [
    "function qrfact(A)\n",
    "    m,n = size(A)\n",
    "    Qt = diagm(ones(m))\n",
    "    R = float(copy(A))\n",
    "    for k in 1:n\n",
    "        z = R[k:m,k]\n",
    "        w = [ -sign(z[1])*norm(z) - z[1]; -z[2:end] ]\n",
    "        nrmw = norm(w)\n",
    "        if nrmw < eps() continue; end    # skip this iteration\n",
    "        v = w / nrmw;\n",
    "        # Apply the reflection to each relevant column of A and Q\n",
    "        for j in 1:n\n",
    "            R[k:m,j] -= v*( 2*(v'*R[k:m,j]) )\n",
    "        end\n",
    "        for j in 1:m\n",
    "            Qt[k:m,j] -= v*( 2*(v'*Qt[k:m,j]) )\n",
    "        end\n",
    "    end\n",
    "    return Qt',triu(R)\n",
    "end"
   ]
  },
  {
   "cell_type": "code",
   "execution_count": 3,
   "metadata": {},
   "outputs": [
    {
     "data": {
      "text/plain": [
       "3×3 Matrix{Float64}:\n",
       " 12.0  -51.0    4.0\n",
       "  6.0  167.0  -68.0\n",
       " -4.0   24.0  -41.0"
      ]
     },
     "metadata": {},
     "output_type": "display_data"
    }
   ],
   "source": [
    "A = [12 -51 4 ; 6 167 -68 ; -4 24 -41]\n",
    "\n",
    "# Q, R = HouseHolder(A)\n",
    "\n",
    "Q, R = qrfact(A)\n",
    "\n",
    "Q * R"
   ]
  },
  {
   "cell_type": "code",
   "execution_count": 4,
   "metadata": {},
   "outputs": [
    {
     "data": {
      "text/plain": [
       "3×3 adjoint(::Matrix{Float64}) with eltype Float64:\n",
       " -0.8   0.536656  -0.268328\n",
       " -0.6  -0.715542   0.357771\n",
       "  0.0   0.447214   0.894427"
      ]
     },
     "metadata": {},
     "output_type": "display_data"
    }
   ],
   "source": [
    "A = [4 5 ; 3 5; 0 -1/2];\n",
    "\n",
    "Q, R = qrfact(A)\n",
    "\n",
    "Q"
   ]
  },
  {
   "cell_type": "markdown",
   "metadata": {},
   "source": [
    "# QR Reduzido Manual"
   ]
  },
  {
   "cell_type": "code",
   "execution_count": 12,
   "metadata": {},
   "outputs": [
    {
     "data": {
      "text/plain": [
       "3×3 Matrix{Float64}:\n",
       " 0.8   0.6  0.0\n",
       " 0.6  -0.8  0.0\n",
       " 0.0   0.0  1.0"
      ]
     },
     "metadata": {},
     "output_type": "display_data"
    }
   ],
   "source": [
    "A1 = A;\n",
    "\n",
    "x = A1[:,1]\n",
    "e1 = [1 ; 0 ; 0];\n",
    "α1 = norm(x)\n",
    "v = x - α1*e1;\n",
    "\n",
    "u = v / norm(v)\n",
    "\n",
    "Q1 = diagm(ones(3)) - 2*u*u'"
   ]
  },
  {
   "cell_type": "code",
   "execution_count": 17,
   "metadata": {},
   "outputs": [
    {
     "data": {
      "text/plain": [
       "2×1 Matrix{Float64}:\n",
       " -0.9999999999999991\n",
       " -0.5"
      ]
     },
     "metadata": {},
     "output_type": "display_data"
    }
   ],
   "source": [
    "A2 = Q1*A1\n",
    "A2til = A2[2:end,2:end]"
   ]
  },
  {
   "cell_type": "code",
   "execution_count": 23,
   "metadata": {},
   "outputs": [
    {
     "data": {
      "text/plain": [
       "3×3 Matrix{Float64}:\n",
       " 1.0   0.0        0.0\n",
       " 0.0  -0.894427  -0.447214\n",
       " 0.0  -0.447214   0.894427"
      ]
     },
     "metadata": {},
     "output_type": "display_data"
    }
   ],
   "source": [
    "x = A2til[:,1]\n",
    "e1 = [1 ; 0];\n",
    "\n",
    "α2 = norm(x)\n",
    "v = x - α2*e1;\n",
    "u = v / norm(v)\n",
    "\n",
    "Q2til = diagm(ones(2)) - 2*u*u'\n",
    "Q2 = [1 0 0 ; 0 Q2til[1,1] Q2til[1,2] ; 0 Q2til[2,1] Q2til[2,2]]"
   ]
  },
  {
   "cell_type": "code",
   "execution_count": 25,
   "metadata": {},
   "outputs": [
    {
     "data": {
      "text/plain": [
       "3×2 Matrix{Float64}:\n",
       "  5.0          7.0\n",
       " -3.97205e-16  1.11803\n",
       " -1.98603e-16  0.0"
      ]
     },
     "metadata": {},
     "output_type": "display_data"
    }
   ],
   "source": [
    "A3 = Q2*A2"
   ]
  },
  {
   "cell_type": "code",
   "execution_count": 27,
   "metadata": {},
   "outputs": [
    {
     "data": {
      "text/plain": [
       "3×2 Matrix{Float64}:\n",
       "  4.0           5.0\n",
       "  3.0           5.0\n",
       " -4.18842e-32  -0.5"
      ]
     },
     "metadata": {},
     "output_type": "display_data"
    }
   ],
   "source": [
    "R = A3\n",
    "Q = Q1*Q2\n",
    "\n",
    "Q * R"
   ]
  },
  {
   "cell_type": "code",
   "execution_count": 32,
   "metadata": {},
   "outputs": [
    {
     "data": {
      "text/plain": [
       "3×2 Matrix{Float64}:\n",
       " 0.8  -0.536656\n",
       " 0.6   0.715542\n",
       " 0.0  -0.447214"
      ]
     },
     "metadata": {},
     "output_type": "display_data"
    }
   ],
   "source": [
    "Qch = [Q[:,1] Q[:,2]]"
   ]
  },
  {
   "cell_type": "code",
   "execution_count": 33,
   "metadata": {},
   "outputs": [
    {
     "ename": "MethodError",
     "evalue": "MethodError: no method matching diagm(::Matrix{Int64})\n\nYou might have used a 2d row vector where a 1d column vector was required.\nNote the difference between 1d column vector [1,2,3] and 2d row vector [1 2 3].\nYou can convert to a column vector with the vec() function.\n\nClosest candidates are:\n  diagm(!Matched::Integer, !Matched::Integer, !Matched::Pair{<:Integer, <:AbstractVector}...)\n   @ LinearAlgebra ~/bin/julia-1.9.3/share/julia/stdlib/v1.9/LinearAlgebra/src/dense.jl:292\n  diagm(!Matched::AbstractVector)\n   @ LinearAlgebra ~/bin/julia-1.9.3/share/julia/stdlib/v1.9/LinearAlgebra/src/dense.jl:341\n  diagm(!Matched::Integer, !Matched::Integer, !Matched::AbstractVector)\n   @ LinearAlgebra ~/bin/julia-1.9.3/share/julia/stdlib/v1.9/LinearAlgebra/src/dense.jl:342\n  ...\n",
     "output_type": "error",
     "traceback": [
      "MethodError: no method matching diagm(::Matrix{Int64})\n",
      "\n",
      "You might have used a 2d row vector where a 1d column vector was required.\n",
      "Note the difference between 1d column vector [1,2,3] and 2d row vector [1 2 3].\n",
      "You can convert to a column vector with the vec() function.\n",
      "\n",
      "Closest candidates are:\n",
      "  diagm(!Matched::Integer, !Matched::Integer, !Matched::Pair{<:Integer, <:AbstractVector}...)\n",
      "   @ LinearAlgebra ~/bin/julia-1.9.3/share/julia/stdlib/v1.9/LinearAlgebra/src/dense.jl:292\n",
      "  diagm(!Matched::AbstractVector)\n",
      "   @ LinearAlgebra ~/bin/julia-1.9.3/share/julia/stdlib/v1.9/LinearAlgebra/src/dense.jl:341\n",
      "  diagm(!Matched::Integer, !Matched::Integer, !Matched::AbstractVector)\n",
      "   @ LinearAlgebra ~/bin/julia-1.9.3/share/julia/stdlib/v1.9/LinearAlgebra/src/dense.jl:342\n",
      "  ...\n",
      "\n",
      "\n",
      "Stacktrace:\n",
      " [1] top-level scope\n",
      "   @ ~/Documents/IntensivaoEFA04/HouseHolder.ipynb:1"
     ]
    }
   ],
   "source": []
  }
 ],
 "metadata": {
  "kernelspec": {
   "display_name": "Julia 1.9.3",
   "language": "julia",
   "name": "julia-1.9"
  },
  "language_info": {
   "file_extension": ".jl",
   "mimetype": "application/julia",
   "name": "julia",
   "version": "1.9.3"
  }
 },
 "nbformat": 4,
 "nbformat_minor": 2
}
